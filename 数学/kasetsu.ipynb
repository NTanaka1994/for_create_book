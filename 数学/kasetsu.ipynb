{
 "cells": [
  {
   "cell_type": "markdown",
   "id": "e4615499",
   "metadata": {},
   "source": [
    "対応のないT検定"
   ]
  },
  {
   "cell_type": "code",
   "execution_count": 1,
   "id": "0927323a",
   "metadata": {},
   "outputs": [],
   "source": [
    "import pandas as pd\n",
    "df = pd.read_csv(\"iris.csv\")\n",
    "df0 = df[df[\"category\"]==0]\n",
    "df1 = df[df[\"category\"]==1]\n",
    "df2 = df[df[\"category\"]==2]"
   ]
  },
  {
   "cell_type": "code",
   "execution_count": 5,
   "id": "e3f9889d",
   "metadata": {},
   "outputs": [
    {
     "data": {
      "text/plain": [
       "Index(['sepal length in cm', 'sepal width in cm', 'petal length in cm',\n",
       "       'petal width', 'category'],\n",
       "      dtype='object')"
      ]
     },
     "execution_count": 5,
     "metadata": {},
     "output_type": "execute_result"
    }
   ],
   "source": [
    "df.columns"
   ]
  },
  {
   "cell_type": "code",
   "execution_count": 7,
   "id": "2afa9a5a",
   "metadata": {},
   "outputs": [],
   "source": [
    "import scipy.stats as stats\n",
    "import scipy as sp"
   ]
  },
  {
   "cell_type": "code",
   "execution_count": 11,
   "id": "c929a207",
   "metadata": {},
   "outputs": [
    {
     "name": "stdout",
     "output_type": "stream",
     "text": [
      "カテゴリ0とカテゴリ1の比較\n",
      "項目名:sepal length in cm\n",
      "p値:8.985235037487077e-18\n",
      "平均値の差:0.9299999999999997\n",
      "差の標準偏差-0.08839475466938762\n",
      "\n",
      "項目名:sepal width in cm\n",
      "p値:1.8452599454769322e-15\n",
      "平均値の差:0.6579999999999995\n",
      "差の標準偏差0.0695929858065408\n",
      "\n",
      "項目名:petal length in cm\n",
      "p値:5.404910513441677e-62\n",
      "平均値の差:2.7979999999999996\n",
      "差の標準偏差-0.07084850177725449\n",
      "\n",
      "項目名:petal width\n",
      "p値:3.831095388248162e-56\n",
      "平均値の差:1.0799999999999998\n",
      "差の標準偏差-0.031689823255410934\n",
      "\n",
      "項目名:category\n",
      "p値:0.0\n",
      "平均値の差:1.0\n",
      "差の標準偏差-0.0\n",
      "\n"
     ]
    }
   ],
   "source": [
    "print(\"カテゴリ0とカテゴリ1の比較\")\n",
    "for col in df.columns:\n",
    "    x0 = df0[col].values\n",
    "    x1 = df1[col].values\n",
    "    t, p = stats.ttest_ind(x0, x1, equal_var=True)\n",
    "    MU = abs(x0.mean() - x1.mean())\n",
    "    SE = MU / t\n",
    "    DF = len(x0) - 1 + len(x1) - 1\n",
    "    CI = stats.t.interval(alpha=0.95, loc=MU, scale=SE, df=DF)\n",
    "    print(\"項目名:\"+col)\n",
    "    print(\"p値:\"+str(p))\n",
    "    print(\"平均値の差:\"+str(MU))\n",
    "    print(\"差の標準偏差\"+str(SE))\n",
    "    print()"
   ]
  },
  {
   "cell_type": "code",
   "execution_count": 21,
   "id": "6c26feaa",
   "metadata": {},
   "outputs": [
    {
     "name": "stdout",
     "output_type": "stream",
     "text": [
      "カテゴリ1とカテゴリ2の比較\n",
      "項目名:sepal length in cm\n",
      "p値:1.7248563024547942e-07\n",
      "平均値の差:0.6519999999999984\n",
      "差の標準偏差-0.11582534353103226\n",
      "\n",
      "項目名:sepal width in cm\n",
      "p値:0.0018191004238894803\n",
      "平均値の差:0.20399999999999974\n",
      "差の標準偏差-0.06363544128671618\n",
      "\n",
      "項目名:petal length in cm\n",
      "p値:3.1788195478061495e-22\n",
      "平均値の差:1.2920000000000007\n",
      "差の標準偏差-0.10250893440404629\n",
      "\n",
      "項目名:petal width\n",
      "p値:2.2304090710248333e-26\n",
      "平均値の差:0.7000000000000004\n",
      "差の標準偏差-0.047862046657075594\n",
      "\n",
      "項目名:category\n",
      "p値:0.0\n",
      "平均値の差:1.0\n",
      "差の標準偏差-0.0\n",
      "\n"
     ]
    },
    {
     "name": "stderr",
     "output_type": "stream",
     "text": [
      "C:\\Users\\user\\anaconda3\\lib\\site-packages\\scipy\\stats\\_distn_infrastructure.py:2098: RuntimeWarning: invalid value encountered in multiply\n",
      "  lower_bound = _a * scale + loc\n",
      "C:\\Users\\user\\anaconda3\\lib\\site-packages\\scipy\\stats\\_distn_infrastructure.py:2099: RuntimeWarning: invalid value encountered in multiply\n",
      "  upper_bound = _b * scale + loc\n"
     ]
    }
   ],
   "source": [
    "print(\"カテゴリ1とカテゴリ2の比較\")\n",
    "for col in df.columns:\n",
    "    x1 = df1[col].values\n",
    "    x2 = df2[col].values\n",
    "    t, p=stats.ttest_ind(x1, x2, equal_var=True)\n",
    "    MU = abs(x1.mean()-x2.mean())\n",
    "    SE = MU / t\n",
    "    DF = len(x1) - 1 + len(x2) - 1\n",
    "    CI = stats.t.interval(alpha=0.95, loc=MU, scale=SE, df=DF)\n",
    "    print(\"項目名:\"+col)\n",
    "    print(\"p値:\"+str(p))\n",
    "    print(\"平均値の差:\"+str(MU))\n",
    "    print(\"差の標準偏差\"+str(SE))\n",
    "    print()"
   ]
  },
  {
   "cell_type": "code",
   "execution_count": 22,
   "id": "8863acad",
   "metadata": {},
   "outputs": [
    {
     "name": "stdout",
     "output_type": "stream",
     "text": [
      "カテゴリ2とカテゴリ0の比較\n",
      "項目名:sepal length in cm\n",
      "p値:6.892546060674059e-28\n",
      "平均値の差:1.581999999999998\n",
      "差の標準偏差0.10281943753344443\n",
      "\n",
      "項目名:sepal width in cm\n",
      "p値:4.24635538184499e-09\n",
      "平均値の差:0.45399999999999974\n",
      "差の標準偏差-0.07038378755807626\n",
      "\n",
      "項目名:petal length in cm\n",
      "p値:1.5048006992427275e-71\n",
      "平均値の差:4.09\n",
      "差の標準偏差0.08182260552873029\n",
      "\n",
      "項目名:petal width\n",
      "p値:3.2303748184318025e-65\n",
      "平均値の差:1.7800000000000002\n",
      "差の標準偏差0.04160259018623818\n",
      "\n",
      "項目名:category\n",
      "p値:0.0\n",
      "平均値の差:2.0\n",
      "差の標準偏差0.0\n",
      "\n"
     ]
    }
   ],
   "source": [
    "print(\"カテゴリ2とカテゴリ0の比較\")\n",
    "for col in df.columns:\n",
    "    x2 = df2[col].values\n",
    "    x0 = df0[col].values\n",
    "    t, p = stats.ttest_ind(x2, x0, equal_var=True)\n",
    "    MU = abs(x2.mean()-x0.mean())\n",
    "    SE = MU / t\n",
    "    DF = len(x2) - 1 + len(x0) - 1\n",
    "    CI = stats.t.interval(alpha=0.95, loc=MU, scale=SE, df=DF)\n",
    "    print(\"項目名:\"+col)\n",
    "    print(\"p値:\"+str(p))\n",
    "    print(\"平均値の差:\"+str(MU))\n",
    "    print(\"差の標準偏差\"+str(SE))\n",
    "    print()"
   ]
  },
  {
   "cell_type": "code",
   "execution_count": 18,
   "id": "5aaa0667",
   "metadata": {},
   "outputs": [],
   "source": [
    "from sklearn.ensemble import GradientBoostingClassifier as GBC\n",
    "y_name = \"category\"\n",
    "y_table = df[y_name]\n",
    "y = y_table.values\n",
    "x_table = df.drop(y_name,axis=1)\n",
    "x_name = x_table.columns\n",
    "x = x_table.values"
   ]
  },
  {
   "cell_type": "code",
   "execution_count": 20,
   "id": "ec323378",
   "metadata": {},
   "outputs": [
    {
     "data": {
      "text/html": [
       "<div>\n",
       "<style scoped>\n",
       "    .dataframe tbody tr th:only-of-type {\n",
       "        vertical-align: middle;\n",
       "    }\n",
       "\n",
       "    .dataframe tbody tr th {\n",
       "        vertical-align: top;\n",
       "    }\n",
       "\n",
       "    .dataframe thead th {\n",
       "        text-align: right;\n",
       "    }\n",
       "</style>\n",
       "<table border=\"1\" class=\"dataframe\">\n",
       "  <thead>\n",
       "    <tr style=\"text-align: right;\">\n",
       "      <th></th>\n",
       "      <th>sepal length in cm</th>\n",
       "      <th>sepal width in cm</th>\n",
       "      <th>petal length in cm</th>\n",
       "      <th>petal width</th>\n",
       "    </tr>\n",
       "  </thead>\n",
       "  <tbody>\n",
       "    <tr>\n",
       "      <th>0</th>\n",
       "      <td>0.005908</td>\n",
       "      <td>0.011748</td>\n",
       "      <td>0.323729</td>\n",
       "      <td>0.658616</td>\n",
       "    </tr>\n",
       "  </tbody>\n",
       "</table>\n",
       "</div>"
      ],
      "text/plain": [
       "   sepal length in cm  sepal width in cm  petal length in cm  petal width\n",
       "0            0.005908           0.011748            0.323729     0.658616"
      ]
     },
     "execution_count": 20,
     "metadata": {},
     "output_type": "execute_result"
    }
   ],
   "source": [
    "model = GBC()\n",
    "model.fit(x, y)\n",
    "imp = []\n",
    "imp.append(model.feature_importances_)\n",
    "dfi = pd.DataFrame(imp)\n",
    "dfi.columns = x_name\n",
    "dfi"
   ]
  },
  {
   "cell_type": "code",
   "execution_count": 29,
   "id": "8349bd0a",
   "metadata": {},
   "outputs": [
    {
     "data": {
      "image/png": "[encoded data removed]",
      "text/plain": [
       "<Figure size 432x288 with 1 Axes>"
      ]
     },
     "metadata": {
      "needs_background": "light"
     },
     "output_type": "display_data"
    },
    {
     "data": {
      "image/png": "[encoded data removed]",
      "text/plain": [
       "<Figure size 432x288 with 1 Axes>"
      ]
     },
     "metadata": {
      "needs_background": "light"
     },
     "output_type": "display_data"
    },
    {
     "data": {
      "image/png": "[encoded data removed]",
      "text/plain": [
       "<Figure size 432x288 with 1 Axes>"
      ]
     },
     "metadata": {
      "needs_background": "light"
     },
     "output_type": "display_data"
    },
    {
     "data": {
      "image/png": "[encoded data removed]",
      "text/plain": [
       "<Figure size 432x288 with 1 Axes>"
      ]
     },
     "metadata": {
      "needs_background": "light"
     },
     "output_type": "display_data"
    }
   ],
   "source": [
    "import matplotlib.pyplot as plt\n",
    "for col in x_table.columns:\n",
    "    x0 = df0[col].values\n",
    "    x1 = df1[col].values\n",
    "    x2 = df2[col].values\n",
    "    data = (x0, x1, x2)\n",
    "    plt.boxplot(data, labels=['0', '1', '2'])\n",
    "    plt.title(col)\n",
    "    plt.show()"
   ]
  },
  {
   "cell_type": "markdown",
   "id": "0c9be3ab",
   "metadata": {},
   "source": [
    "対応のあるT検定"
   ]
  },
  {
   "cell_type": "code",
   "execution_count": 30,
   "id": "d76953f9",
   "metadata": {},
   "outputs": [
    {
     "data": {
      "text/html": [
       "<div>\n",
       "<style scoped>\n",
       "    .dataframe tbody tr th:only-of-type {\n",
       "        vertical-align: middle;\n",
       "    }\n",
       "\n",
       "    .dataframe tbody tr th {\n",
       "        vertical-align: top;\n",
       "    }\n",
       "\n",
       "    .dataframe thead th {\n",
       "        text-align: right;\n",
       "    }\n",
       "</style>\n",
       "<table border=\"1\" class=\"dataframe\">\n",
       "  <thead>\n",
       "    <tr style=\"text-align: right;\">\n",
       "      <th></th>\n",
       "      <th>被検者No.</th>\n",
       "      <th>投与前の血圧</th>\n",
       "      <th>投与後の血圧</th>\n",
       "      <th>差（投与前-投与後）</th>\n",
       "    </tr>\n",
       "  </thead>\n",
       "  <tbody>\n",
       "    <tr>\n",
       "      <th>0</th>\n",
       "      <td>1</td>\n",
       "      <td>180</td>\n",
       "      <td>150</td>\n",
       "      <td>30</td>\n",
       "    </tr>\n",
       "    <tr>\n",
       "      <th>1</th>\n",
       "      <td>2</td>\n",
       "      <td>130</td>\n",
       "      <td>135</td>\n",
       "      <td>-5</td>\n",
       "    </tr>\n",
       "    <tr>\n",
       "      <th>2</th>\n",
       "      <td>3</td>\n",
       "      <td>165</td>\n",
       "      <td>145</td>\n",
       "      <td>20</td>\n",
       "    </tr>\n",
       "    <tr>\n",
       "      <th>3</th>\n",
       "      <td>4</td>\n",
       "      <td>155</td>\n",
       "      <td>150</td>\n",
       "      <td>5</td>\n",
       "    </tr>\n",
       "    <tr>\n",
       "      <th>4</th>\n",
       "      <td>5</td>\n",
       "      <td>140</td>\n",
       "      <td>140</td>\n",
       "      <td>0</td>\n",
       "    </tr>\n",
       "    <tr>\n",
       "      <th>5</th>\n",
       "      <td>平均</td>\n",
       "      <td>154</td>\n",
       "      <td>144</td>\n",
       "      <td>10</td>\n",
       "    </tr>\n",
       "  </tbody>\n",
       "</table>\n",
       "</div>"
      ],
      "text/plain": [
       "  被検者No.  投与前の血圧  投与後の血圧  差（投与前-投与後）\n",
       "0      1     180     150          30\n",
       "1      2     130     135          -5\n",
       "2      3     165     145          20\n",
       "3      4     155     150           5\n",
       "4      5     140     140           0\n",
       "5     平均     154     144          10"
      ]
     },
     "execution_count": 30,
     "metadata": {},
     "output_type": "execute_result"
    }
   ],
   "source": [
    "df = pd.read_html(\"https://bellcurve.jp/statistics/course/9453.html\")[1]\n",
    "df"
   ]
  },
  {
   "cell_type": "code",
   "execution_count": 31,
   "id": "c84473b5",
   "metadata": {},
   "outputs": [
    {
     "data": {
      "text/plain": [
       "Index(['被検者No.', '投与前の血圧', '投与後の血圧', '差（投与前-投与後）'], dtype='object')"
      ]
     },
     "execution_count": 31,
     "metadata": {},
     "output_type": "execute_result"
    }
   ],
   "source": [
    "df.columns"
   ]
  },
  {
   "cell_type": "code",
   "execution_count": 32,
   "id": "7cc037c3",
   "metadata": {},
   "outputs": [
    {
     "name": "stdout",
     "output_type": "stream",
     "text": [
      "[180 130 165 155 140]\n",
      "[150 135 145 150 140]\n"
     ]
    }
   ],
   "source": [
    "xb = df['投与前の血圧'].values[0: -1]\n",
    "xa = df['投与後の血圧'].values[0: -1]\n",
    "print(xb)\n",
    "print(xa)"
   ]
  },
  {
   "cell_type": "code",
   "execution_count": 35,
   "id": "0ccce6fe",
   "metadata": {},
   "outputs": [
    {
     "name": "stdout",
     "output_type": "stream",
     "text": [
      "0.1998291855377201\n",
      "Ttest_relResult(statistic=1.5339299776947408, pvalue=0.1998291855377201)\n"
     ]
    }
   ],
   "source": [
    "result = stats.ttest_rel(xb, xa)\n",
    "print(result.pvalue)\n",
    "print(result)"
   ]
  },
  {
   "cell_type": "code",
   "execution_count": 34,
   "id": "74dbdcea",
   "metadata": {},
   "outputs": [],
   "source": [
    "df.to_csv(\"血圧.csv\", encoding=\"shift-jis\", index=False)"
   ]
  },
  {
   "cell_type": "code",
   "execution_count": 48,
   "id": "394df81b",
   "metadata": {},
   "outputs": [
    {
     "data": {
      "text/html": [
       "<div>\n",
       "<style scoped>\n",
       "    .dataframe tbody tr th:only-of-type {\n",
       "        vertical-align: middle;\n",
       "    }\n",
       "\n",
       "    .dataframe tbody tr th {\n",
       "        vertical-align: top;\n",
       "    }\n",
       "\n",
       "    .dataframe thead th {\n",
       "        text-align: right;\n",
       "    }\n",
       "</style>\n",
       "<table border=\"1\" class=\"dataframe\">\n",
       "  <thead>\n",
       "    <tr style=\"text-align: right;\">\n",
       "      <th></th>\n",
       "      <th>天気</th>\n",
       "      <th>気温</th>\n",
       "      <th>湿度</th>\n",
       "      <th>風</th>\n",
       "      <th>ゴルフ</th>\n",
       "    </tr>\n",
       "  </thead>\n",
       "  <tbody>\n",
       "    <tr>\n",
       "      <th>0</th>\n",
       "      <td>晴</td>\n",
       "      <td>29</td>\n",
       "      <td>85</td>\n",
       "      <td>弱</td>\n",
       "      <td>0</td>\n",
       "    </tr>\n",
       "    <tr>\n",
       "      <th>1</th>\n",
       "      <td>晴</td>\n",
       "      <td>27</td>\n",
       "      <td>90</td>\n",
       "      <td>強</td>\n",
       "      <td>0</td>\n",
       "    </tr>\n",
       "    <tr>\n",
       "      <th>2</th>\n",
       "      <td>曇</td>\n",
       "      <td>28</td>\n",
       "      <td>78</td>\n",
       "      <td>弱</td>\n",
       "      <td>1</td>\n",
       "    </tr>\n",
       "    <tr>\n",
       "      <th>3</th>\n",
       "      <td>雨</td>\n",
       "      <td>21</td>\n",
       "      <td>96</td>\n",
       "      <td>弱</td>\n",
       "      <td>1</td>\n",
       "    </tr>\n",
       "    <tr>\n",
       "      <th>4</th>\n",
       "      <td>雨</td>\n",
       "      <td>20</td>\n",
       "      <td>80</td>\n",
       "      <td>弱</td>\n",
       "      <td>1</td>\n",
       "    </tr>\n",
       "    <tr>\n",
       "      <th>5</th>\n",
       "      <td>雨</td>\n",
       "      <td>18</td>\n",
       "      <td>70</td>\n",
       "      <td>強</td>\n",
       "      <td>0</td>\n",
       "    </tr>\n",
       "    <tr>\n",
       "      <th>6</th>\n",
       "      <td>曇</td>\n",
       "      <td>18</td>\n",
       "      <td>65</td>\n",
       "      <td>強</td>\n",
       "      <td>1</td>\n",
       "    </tr>\n",
       "    <tr>\n",
       "      <th>7</th>\n",
       "      <td>晴</td>\n",
       "      <td>22</td>\n",
       "      <td>95</td>\n",
       "      <td>弱</td>\n",
       "      <td>0</td>\n",
       "    </tr>\n",
       "    <tr>\n",
       "      <th>8</th>\n",
       "      <td>晴</td>\n",
       "      <td>21</td>\n",
       "      <td>70</td>\n",
       "      <td>弱</td>\n",
       "      <td>1</td>\n",
       "    </tr>\n",
       "    <tr>\n",
       "      <th>9</th>\n",
       "      <td>雨</td>\n",
       "      <td>24</td>\n",
       "      <td>80</td>\n",
       "      <td>弱</td>\n",
       "      <td>1</td>\n",
       "    </tr>\n",
       "    <tr>\n",
       "      <th>10</th>\n",
       "      <td>晴</td>\n",
       "      <td>24</td>\n",
       "      <td>70</td>\n",
       "      <td>強</td>\n",
       "      <td>1</td>\n",
       "    </tr>\n",
       "    <tr>\n",
       "      <th>11</th>\n",
       "      <td>曇</td>\n",
       "      <td>22</td>\n",
       "      <td>90</td>\n",
       "      <td>強</td>\n",
       "      <td>1</td>\n",
       "    </tr>\n",
       "    <tr>\n",
       "      <th>12</th>\n",
       "      <td>曇</td>\n",
       "      <td>27</td>\n",
       "      <td>75</td>\n",
       "      <td>弱</td>\n",
       "      <td>1</td>\n",
       "    </tr>\n",
       "    <tr>\n",
       "      <th>13</th>\n",
       "      <td>雨</td>\n",
       "      <td>22</td>\n",
       "      <td>80</td>\n",
       "      <td>強</td>\n",
       "      <td>0</td>\n",
       "    </tr>\n",
       "  </tbody>\n",
       "</table>\n",
       "</div>"
      ],
      "text/plain": [
       "   天気  気温  湿度  風  ゴルフ\n",
       "0   晴  29  85  弱    0\n",
       "1   晴  27  90  強    0\n",
       "2   曇  28  78  弱    1\n",
       "3   雨  21  96  弱    1\n",
       "4   雨  20  80  弱    1\n",
       "5   雨  18  70  強    0\n",
       "6   曇  18  65  強    1\n",
       "7   晴  22  95  弱    0\n",
       "8   晴  21  70  弱    1\n",
       "9   雨  24  80  弱    1\n",
       "10  晴  24  70  強    1\n",
       "11  曇  22  90  強    1\n",
       "12  曇  27  75  弱    1\n",
       "13  雨  22  80  強    0"
      ]
     },
     "execution_count": 48,
     "metadata": {},
     "output_type": "execute_result"
    }
   ],
   "source": [
    "df = pd.read_csv(\"golf.csv\",encoding=\"utf-8\")\n",
    "df"
   ]
  },
  {
   "cell_type": "code",
   "execution_count": 49,
   "id": "7e979277",
   "metadata": {},
   "outputs": [
    {
     "data": {
      "text/html": [
       "<div>\n",
       "<style scoped>\n",
       "    .dataframe tbody tr th:only-of-type {\n",
       "        vertical-align: middle;\n",
       "    }\n",
       "\n",
       "    .dataframe tbody tr th {\n",
       "        vertical-align: top;\n",
       "    }\n",
       "\n",
       "    .dataframe thead tr th {\n",
       "        text-align: left;\n",
       "    }\n",
       "\n",
       "    .dataframe thead tr:last-of-type th {\n",
       "        text-align: right;\n",
       "    }\n",
       "</style>\n",
       "<table border=\"1\" class=\"dataframe\">\n",
       "  <thead>\n",
       "    <tr>\n",
       "      <th>天気</th>\n",
       "      <th colspan=\"2\" halign=\"left\">晴</th>\n",
       "      <th colspan=\"2\" halign=\"left\">曇</th>\n",
       "      <th colspan=\"2\" halign=\"left\">雨</th>\n",
       "    </tr>\n",
       "    <tr>\n",
       "      <th>風</th>\n",
       "      <th>弱</th>\n",
       "      <th>強</th>\n",
       "      <th>弱</th>\n",
       "      <th>強</th>\n",
       "      <th>弱</th>\n",
       "      <th>強</th>\n",
       "    </tr>\n",
       "    <tr>\n",
       "      <th>ゴルフ</th>\n",
       "      <th></th>\n",
       "      <th></th>\n",
       "      <th></th>\n",
       "      <th></th>\n",
       "      <th></th>\n",
       "      <th></th>\n",
       "    </tr>\n",
       "  </thead>\n",
       "  <tbody>\n",
       "    <tr>\n",
       "      <th>0</th>\n",
       "      <td>2</td>\n",
       "      <td>1</td>\n",
       "      <td>0</td>\n",
       "      <td>0</td>\n",
       "      <td>0</td>\n",
       "      <td>2</td>\n",
       "    </tr>\n",
       "    <tr>\n",
       "      <th>1</th>\n",
       "      <td>1</td>\n",
       "      <td>1</td>\n",
       "      <td>2</td>\n",
       "      <td>2</td>\n",
       "      <td>3</td>\n",
       "      <td>0</td>\n",
       "    </tr>\n",
       "  </tbody>\n",
       "</table>\n",
       "</div>"
      ],
      "text/plain": [
       "天気   晴     曇     雨   \n",
       "風    弱  強  弱  強  弱  強\n",
       "ゴルフ                  \n",
       "0    2  1  0  0  0  2\n",
       "1    1  1  2  2  3  0"
      ]
     },
     "execution_count": 49,
     "metadata": {},
     "output_type": "execute_result"
    }
   ],
   "source": [
    "cross = pd.crosstab(df.ゴルフ, [df.天気, df.風])\n",
    "cross"
   ]
  },
  {
   "cell_type": "code",
   "execution_count": 50,
   "id": "4929abfb",
   "metadata": {},
   "outputs": [],
   "source": [
    "x2, p, dof, expected = sp.stats.chi2_contingency(cross)"
   ]
  },
  {
   "cell_type": "code",
   "execution_count": 51,
   "id": "0b6a6639",
   "metadata": {},
   "outputs": [
    {
     "name": "stdout",
     "output_type": "stream",
     "text": [
      "0.11235865025855099\n"
     ]
    }
   ],
   "source": [
    "print(p)"
   ]
  },
  {
   "cell_type": "code",
   "execution_count": 53,
   "id": "aba340f0",
   "metadata": {},
   "outputs": [
    {
     "data": {
      "text/html": [
       "<div>\n",
       "<style scoped>\n",
       "    .dataframe tbody tr th:only-of-type {\n",
       "        vertical-align: middle;\n",
       "    }\n",
       "\n",
       "    .dataframe tbody tr th {\n",
       "        vertical-align: top;\n",
       "    }\n",
       "\n",
       "    .dataframe thead tr th {\n",
       "        text-align: left;\n",
       "    }\n",
       "</style>\n",
       "<table border=\"1\" class=\"dataframe\">\n",
       "  <thead>\n",
       "    <tr>\n",
       "      <th>天気</th>\n",
       "      <th colspan=\"2\" halign=\"left\">晴</th>\n",
       "      <th colspan=\"2\" halign=\"left\">曇</th>\n",
       "      <th colspan=\"2\" halign=\"left\">雨</th>\n",
       "    </tr>\n",
       "    <tr>\n",
       "      <th>風</th>\n",
       "      <th>弱</th>\n",
       "      <th>強</th>\n",
       "      <th>弱</th>\n",
       "      <th>強</th>\n",
       "      <th>弱</th>\n",
       "      <th>強</th>\n",
       "    </tr>\n",
       "  </thead>\n",
       "  <tbody>\n",
       "    <tr>\n",
       "      <th>0</th>\n",
       "      <td>1.071429</td>\n",
       "      <td>0.714286</td>\n",
       "      <td>0.714286</td>\n",
       "      <td>0.714286</td>\n",
       "      <td>1.071429</td>\n",
       "      <td>0.714286</td>\n",
       "    </tr>\n",
       "    <tr>\n",
       "      <th>1</th>\n",
       "      <td>1.928571</td>\n",
       "      <td>1.285714</td>\n",
       "      <td>1.285714</td>\n",
       "      <td>1.285714</td>\n",
       "      <td>1.928571</td>\n",
       "      <td>1.285714</td>\n",
       "    </tr>\n",
       "  </tbody>\n",
       "</table>\n",
       "</div>"
      ],
      "text/plain": [
       "天気         晴                   曇                   雨          \n",
       "風          弱         強         弱         強         弱         強\n",
       "0   1.071429  0.714286  0.714286  0.714286  1.071429  0.714286\n",
       "1   1.928571  1.285714  1.285714  1.285714  1.928571  1.285714"
      ]
     },
     "execution_count": 53,
     "metadata": {},
     "output_type": "execute_result"
    }
   ],
   "source": [
    "dfe = pd.DataFrame(expected)\n",
    "dfe.columns = cross.columns\n",
    "dfe"
   ]
  },
  {
   "cell_type": "code",
   "execution_count": 54,
   "id": "95df5057",
   "metadata": {},
   "outputs": [
    {
     "data": {
      "text/plain": [
       "5"
      ]
     },
     "execution_count": 54,
     "metadata": {},
     "output_type": "execute_result"
    }
   ],
   "source": [
    "dof"
   ]
  },
  {
   "cell_type": "code",
   "execution_count": 55,
   "id": "77becbc4",
   "metadata": {},
   "outputs": [],
   "source": [
    "dataana = cross - expected"
   ]
  },
  {
   "cell_type": "code",
   "execution_count": 57,
   "id": "157fa1e8",
   "metadata": {},
   "outputs": [
    {
     "data": {
      "text/html": [
       "<div>\n",
       "<style scoped>\n",
       "    .dataframe tbody tr th:only-of-type {\n",
       "        vertical-align: middle;\n",
       "    }\n",
       "\n",
       "    .dataframe tbody tr th {\n",
       "        vertical-align: top;\n",
       "    }\n",
       "\n",
       "    .dataframe thead tr th {\n",
       "        text-align: left;\n",
       "    }\n",
       "\n",
       "    .dataframe thead tr:last-of-type th {\n",
       "        text-align: right;\n",
       "    }\n",
       "</style>\n",
       "<table border=\"1\" class=\"dataframe\">\n",
       "  <thead>\n",
       "    <tr>\n",
       "      <th>天気</th>\n",
       "      <th colspan=\"2\" halign=\"left\">晴</th>\n",
       "      <th colspan=\"2\" halign=\"left\">曇</th>\n",
       "      <th colspan=\"2\" halign=\"left\">雨</th>\n",
       "    </tr>\n",
       "    <tr>\n",
       "      <th>風</th>\n",
       "      <th>弱</th>\n",
       "      <th>強</th>\n",
       "      <th>弱</th>\n",
       "      <th>強</th>\n",
       "      <th>弱</th>\n",
       "      <th>強</th>\n",
       "    </tr>\n",
       "    <tr>\n",
       "      <th>ゴルフ</th>\n",
       "      <th></th>\n",
       "      <th></th>\n",
       "      <th></th>\n",
       "      <th></th>\n",
       "      <th></th>\n",
       "      <th></th>\n",
       "    </tr>\n",
       "  </thead>\n",
       "  <tbody>\n",
       "    <tr>\n",
       "      <th>0</th>\n",
       "      <td>0.928571</td>\n",
       "      <td>0.285714</td>\n",
       "      <td>-0.714286</td>\n",
       "      <td>-0.714286</td>\n",
       "      <td>-1.071429</td>\n",
       "      <td>1.285714</td>\n",
       "    </tr>\n",
       "    <tr>\n",
       "      <th>1</th>\n",
       "      <td>-0.928571</td>\n",
       "      <td>-0.285714</td>\n",
       "      <td>0.714286</td>\n",
       "      <td>0.714286</td>\n",
       "      <td>1.071429</td>\n",
       "      <td>-1.285714</td>\n",
       "    </tr>\n",
       "  </tbody>\n",
       "</table>\n",
       "</div>"
      ],
      "text/plain": [
       "天気          晴                   曇                   雨          \n",
       "風           弱         強         弱         強         弱         強\n",
       "ゴルフ                                                            \n",
       "0    0.928571  0.285714 -0.714286 -0.714286 -1.071429  1.285714\n",
       "1   -0.928571 -0.285714  0.714286  0.714286  1.071429 -1.285714"
      ]
     },
     "execution_count": 57,
     "metadata": {},
     "output_type": "execute_result"
    }
   ],
   "source": [
    "dfa = pd.DataFrame(dataana)\n",
    "dfa.columns = cross.columns\n",
    "dfa"
   ]
  },
  {
   "cell_type": "code",
   "execution_count": null,
   "id": "cecf2964",
   "metadata": {},
   "outputs": [],
   "source": []
  }
 ],
 "metadata": {
  "kernelspec": {
   "display_name": "Python 3",
   "language": "python",
   "name": "python3"
  },
  "language_info": {
   "codemirror_mode": {
    "name": "ipython",
    "version": 3
   },
   "file_extension": ".py",
   "mimetype": "text/x-python",
   "name": "python",
   "nbconvert_exporter": "python",
   "pygments_lexer": "ipython3",
   "version": "3.8.8"
  }
 },
 "nbformat": 4,
 "nbformat_minor": 5
}
