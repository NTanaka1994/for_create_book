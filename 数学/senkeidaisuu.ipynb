{
 "cells": [
  {
   "cell_type": "code",
   "execution_count": 3,
   "id": "2407303d",
   "metadata": {},
   "outputs": [
    {
     "name": "stdout",
     "output_type": "stream",
     "text": [
      "dim:2 a_2:1\n",
      "dim:3 b_2:0\n",
      "dim:4 c_2:2\n"
     ]
    }
   ],
   "source": [
    "#問1-1\n",
    "import numpy as np\n",
    "a = np.array([2, 1])\n",
    "b = np.array([-3, 0, 2])\n",
    "c = np.array([1, 2, 3, 4])\n",
    "print(\"dim:%d a_2:%d\"%(len(a), a[1]))\n",
    "print(\"dim:%d b_2:%d\"%(len(b), b[1]))\n",
    "print(\"dim:%d c_2:%d\"%(len(c), c[1]))\n"
   ]
  },
  {
   "cell_type": "code",
   "execution_count": 4,
   "id": "251d4ede",
   "metadata": {},
   "outputs": [
    {
     "name": "stdout",
     "output_type": "stream",
     "text": [
      "a+b=[11 12  7]\n",
      "b+c=[13  8  9]\n",
      "c+a=[ 6 10 14]\n",
      "\n",
      "a+b=[-7  2  5]\n",
      "b+c=[ 7 -2 -5]\n",
      "c+a=[ 2 -4  2]\n",
      "\n",
      "a+b=[31 29 15]\n",
      "b+c=[ 2 18 10]\n",
      "c+a=[  1  -1 -15]\n"
     ]
    }
   ],
   "source": [
    "#1-2\n",
    "a = np.array([2, 7, 6])\n",
    "b = np.array([9, 5, 1])\n",
    "c = np.array([4, 3, 8])\n",
    "print(\"a+b=%s\"%str(a+b))\n",
    "print(\"b+c=%s\"%str(b+c))\n",
    "print(\"c+a=%s\"%str(c+a))\n",
    "print()\n",
    "print(\"a+b=%s\"%str(a-b))\n",
    "print(\"b+c=%s\"%str(b-a))\n",
    "print(\"c+a=%s\"%str(c-a))\n",
    "print()\n",
    "print(\"a+b=%s\"%str(2*a+3*b))\n",
    "print(\"b+c=%s\"%str(3*a-c))\n",
    "print(\"c+a=%s\"%str(b-2*c))"
   ]
  },
  {
   "cell_type": "code",
   "execution_count": 5,
   "id": "66d629f6",
   "metadata": {},
   "outputs": [
    {
     "name": "stdout",
     "output_type": "stream",
     "text": [
      "dist:2.236068\n",
      "dist:3.605551\n",
      "dist:5.477226\n"
     ]
    }
   ],
   "source": [
    "#1-4\n",
    "a = np.array([2, 1])\n",
    "b = np.array([-3, 0, 2])\n",
    "c = np.array([1, 2, 3, 4])\n",
    "print(\"dist:%f\"%np.linalg.norm(a, ord=2))\n",
    "print(\"dist:%f\"%np.linalg.norm(b, ord=2))\n",
    "print(\"dist:%f\"%np.linalg.norm(c, ord=2))"
   ]
  },
  {
   "cell_type": "code",
   "execution_count": 7,
   "id": "03c6d024",
   "metadata": {},
   "outputs": [
    {
     "name": "stdout",
     "output_type": "stream",
     "text": [
      "(a,b)=59\n",
      "(b,c)=59\n",
      "(c,a)=77\n",
      "\n",
      "(b-a,c)=-18\n",
      "(b,2a-c)=59\n",
      "(a-c,b+c)=-12\n"
     ]
    }
   ],
   "source": [
    "#1-5\n",
    "a = np.array([2, 7, 6])\n",
    "b = np.array([9, 5, 1])\n",
    "c = np.array([4, 3, 8])\n",
    "print(\"(a,b)=%d\"%np.dot(a, b))\n",
    "print(\"(b,c)=%d\"%np.dot(b, c))\n",
    "print(\"(c,a)=%d\"%np.dot(c, a))\n",
    "print()\n",
    "print(\"(b-a,c)=%d\"%np.dot(b-a, c))\n",
    "print(\"(b,2a-c)=%d\"%np.dot(b, 2*a-c))\n",
    "print(\"(a-c,b+c)=%d\"%np.dot(a-c, b+c))"
   ]
  },
  {
   "cell_type": "code",
   "execution_count": 19,
   "id": "1e2943c5",
   "metadata": {},
   "outputs": [
    {
     "name": "stdout",
     "output_type": "stream",
     "text": [
      "(a,b)=-4\n",
      "cosθ=-0.496139\n"
     ]
    },
    {
     "data": {
      "text/plain": [
       "array([ 1, -2])"
      ]
     },
     "execution_count": 19,
     "metadata": {},
     "output_type": "execute_result"
    }
   ],
   "source": [
    "#2-1\n",
    "a = np.array([1, -2])\n",
    "b = np.array([2, 3])\n",
    "print(\"(a,b)=%d\"%np.dot(a, b))\n",
    "print(\"cosθ=%f\"%(np.dot(a, b)/(np.linalg.norm(a)*np.linalg.norm(b))))\n",
    "#print(\"c=%s\"%(np.linalg.qr(a.reshape(1, -1))))\n",
    "a.T"
   ]
  },
  {
   "cell_type": "code",
   "execution_count": 25,
   "id": "74ee568c",
   "metadata": {},
   "outputs": [
    {
     "name": "stdout",
     "output_type": "stream",
     "text": [
      "|(a,b)|=40.000000<=|a||b|=61.497967\n",
      "normalize(a)=[-0.51214752  0.76822128  0.38411064]\n"
     ]
    }
   ],
   "source": [
    "#2-2\n",
    "a = np.array([-4, 6, 3])\n",
    "b = np.array([7, -3, 2])\n",
    "print(\"|(a,b)|=%f<=|a||b|=%f\"%(abs(np.dot(a, b)), np.linalg.norm(a, ord=2) * np.linalg.norm(b, ord=2)))\n",
    "print(\"normalize(a)=%s\"%(a/np.linalg.norm(a)))"
   ]
  },
  {
   "cell_type": "code",
   "execution_count": 33,
   "id": "88d48e2f",
   "metadata": {},
   "outputs": [
    {
     "data": {
      "text/plain": [
       "(3, 4)"
      ]
     },
     "execution_count": 33,
     "metadata": {},
     "output_type": "execute_result"
    }
   ],
   "source": [
    "#3-1\n",
    "A = np.array([[2, -1, 4, 7],\n",
    "              [-1, 2, 5, 3],\n",
    "              [2, -2, 6, 6]])\n",
    "#print(\"shape(A)=%s\"%(str(A.shape())))\n",
    "A.shape"
   ]
  },
  {
   "cell_type": "code",
   "execution_count": 34,
   "id": "7bc3aab9",
   "metadata": {},
   "outputs": [
    {
     "data": {
      "text/plain": [
       "array([[ 2, -1,  2],\n",
       "       [-1,  2, -2],\n",
       "       [ 4,  5,  6],\n",
       "       [ 7,  3,  6]])"
      ]
     },
     "execution_count": 34,
     "metadata": {},
     "output_type": "execute_result"
    }
   ],
   "source": [
    "A.T"
   ]
  },
  {
   "cell_type": "code",
   "execution_count": 38,
   "id": "b25438a9",
   "metadata": {},
   "outputs": [
    {
     "name": "stdout",
     "output_type": "stream",
     "text": [
      "[ 2 -1  2][-1  2 -2][4 5 6][7 3 6]"
     ]
    }
   ],
   "source": [
    "#3-2\n",
    "for i in range(len(A[0])):\n",
    "    print(A[:, i], end=\"\")"
   ]
  },
  {
   "cell_type": "code",
   "execution_count": 39,
   "id": "2f7bb4df",
   "metadata": {},
   "outputs": [
    {
     "name": "stdout",
     "output_type": "stream",
     "text": [
      "[ 2 -1  2][-1  2 -2][4 5 6][7 3 6]"
     ]
    }
   ],
   "source": [
    "for i in range(len(A.T)):\n",
    "    print(A.T[i], end=\"\")"
   ]
  },
  {
   "cell_type": "code",
   "execution_count": 42,
   "id": "670fca89",
   "metadata": {},
   "outputs": [
    {
     "name": "stdout",
     "output_type": "stream",
     "text": [
      "A^2-(a+d)A+(ad-bc)E=\n",
      "[[0. 0.]\n",
      " [0. 0.]]\n"
     ]
    }
   ],
   "source": [
    "A = np.array([[1, 2]\n",
    "             ,[3, 4]])\n",
    "print(\"A^2-(a+d)A+(ad-bc)E=\\n%s\"%(str(A@A-(A[0][0]+A[1][1])*A+(A[0][0]*A[1][1]-A[0][1]*A[1][0])*np.eye(2))))"
   ]
  },
  {
   "cell_type": "code",
   "execution_count": 50,
   "id": "f1eafba5",
   "metadata": {},
   "outputs": [
    {
     "name": "stdout",
     "output_type": "stream",
     "text": [
      "rank(A)=2\n",
      "rank(B)=3\n",
      "rank(C)=1\n",
      "inv(A)=\n",
      "[[-5.  4.]\n",
      " [ 4. -3.]]\n",
      "inv(B)=\n",
      "[[-8.  -5.  -1. ]\n",
      " [ 1.5  1.   0.5]\n",
      " [ 3.5  2.   0.5]]\n"
     ]
    }
   ],
   "source": [
    "A = np.array([[2, 1],\n",
    "              [5, -3]])\n",
    "B = np.array([[1, 7, -1]\n",
    "            ,[2, -5, 4]\n",
    "            ,[3, 7, -3]])\n",
    "C = np.array([[6, 2, -2]\n",
    "             ,[0, 0, 0]\n",
    "             ,[-3, -1, 1]])\n",
    "print(\"rank(A)=%d\"%(np.linalg.matrix_rank(A)))\n",
    "print(\"rank(B)=%d\"%(np.linalg.matrix_rank(B)))\n",
    "print(\"rank(C)=%d\"%(np.linalg.matrix_rank(C)))\n",
    "A = np.array([[3, 4],\n",
    "              [4, 5]])\n",
    "B = np.array([[1, -1, 3]\n",
    "            ,[-2, 1, -5]\n",
    "            ,[1, 3, 1]])\n",
    "print(\"inv(A)=\\n%s\"%(str(np.linalg.inv(A))))\n",
    "print(\"inv(B)=\\n%s\"%(str(np.linalg.inv(B))))"
   ]
  },
  {
   "cell_type": "code",
   "execution_count": 54,
   "id": "d578db06",
   "metadata": {},
   "outputs": [
    {
     "name": "stdout",
     "output_type": "stream",
     "text": [
      "[0.66666667 1.66666667]\n"
     ]
    }
   ],
   "source": [
    "left = np.array([[2, 1],\n",
    "                 [1, 2]])\n",
    "right = np.array([3, 4])\n",
    "print(np.linalg.solve(left, right))"
   ]
  },
  {
   "cell_type": "code",
   "execution_count": 55,
   "id": "035b6632",
   "metadata": {},
   "outputs": [
    {
     "name": "stdout",
     "output_type": "stream",
     "text": [
      "Aは独立\n",
      "Bは従属\n",
      "Cは独立\n"
     ]
    }
   ],
   "source": [
    "A = np.array([[1, 3, 7],\n",
    "              [2, 1, 7],\n",
    "              [3, 4, 1]])\n",
    "B = np.array([[1, 2, 1],\n",
    "              [-2, -1, 4],\n",
    "              [3, 3, -3]])\n",
    "C = np.array([[1, 2, -2, -3],\n",
    "              [2, 3, 6, 1],\n",
    "              [3, 1, 1, 1]])\n",
    "if np.linalg.matrix_rank(A) == len(A):\n",
    "    print(\"Aは独立\")\n",
    "else:\n",
    "    print(\"Aは従属\")\n",
    "if np.linalg.matrix_rank(B) == len(B):\n",
    "    print(\"Bは独立\")\n",
    "else:\n",
    "    print(\"Bは従属\")\n",
    "if np.linalg.matrix_rank(C) == len(C):\n",
    "    print(\"Cは独立\")\n",
    "else:\n",
    "    print(\"Cは従属\")"
   ]
  },
  {
   "cell_type": "code",
   "execution_count": 59,
   "id": "b7afe9c0",
   "metadata": {},
   "outputs": [
    {
     "name": "stdout",
     "output_type": "stream",
     "text": [
      "det(A)=-0.000000 val=0.000000 \n",
      "vector:\n",
      "[[-0.89442719 -0.5547002 ]\n",
      " [ 0.4472136  -0.83205029]]\n",
      "det(B)=79.000000 val=4.123133 \n",
      "vector:\n",
      "[[-0.14922342+0.26723362j -0.14922342-0.26723362j  0.41471359+0.j        ]\n",
      " [-0.17060439+0.61648476j -0.17060439-0.61648476j -0.85457832+0.j        ]\n",
      " [ 0.70509521+0.j          0.70509521-0.j         -0.31258366+0.j        ]]\n",
      "det(C)=-254.000000 val=14.413784 \n",
      "vector:\n",
      "[[-0.60721245 -0.80255013 -0.27903016]\n",
      " [-0.61271793  0.44377263 -0.4297299 ]\n",
      " [-0.50583573  0.39872188  0.85876329]]\n",
      "det(D)=-30.000000 val=-0.619380 \n",
      "vector:\n",
      "[[ 0.76062287+0.j         -0.43839596+0.05295321j -0.43839596-0.05295321j]\n",
      " [-0.3695348 +0.j          0.15325958+0.32213822j  0.15325958-0.32213822j]\n",
      " [-0.53375732+0.j         -0.82325173+0.j         -0.82325173-0.j        ]]\n"
     ]
    },
    {
     "name": "stderr",
     "output_type": "stream",
     "text": [
      "<ipython-input-59-0fc3c864e299>:17: ComplexWarning: Casting complex values to real discards the imaginary part\n",
      "  print(\"det(B)=%f val=%f \\nvector:\\n%s\"%(np.linalg.det(B),wb[0],str(vb)))\n",
      "<ipython-input-59-0fc3c864e299>:19: ComplexWarning: Casting complex values to real discards the imaginary part\n",
      "  print(\"det(D)=%f val=%f \\nvector:\\n%s\"%(np.linalg.det(D),wd[0],str(vd)))\n"
     ]
    }
   ],
   "source": [
    "A = np.array([[2, 4],\n",
    "              [3, 6]])\n",
    "B = np.array([[3, 0, -1],\n",
    "              [-1, 4, -2],\n",
    "              [3, 1, 5]])\n",
    "C = np.array([[2, 9, 4],\n",
    "              [7, 5, 3],\n",
    "              [6, 1, 6]])\n",
    "D = np.array([[1, -1, 3],\n",
    "              [3, 7, -1],\n",
    "              [2, -4, 5]])\n",
    "wa, va = np.linalg.eig(A)\n",
    "wb, vb = np.linalg.eig(B)\n",
    "wc, vc = np.linalg.eig(C)\n",
    "wd, vd = np.linalg.eig(D)\n",
    "print(\"det(A)=%f val=%f \\nvector:\\n%s\"%(np.linalg.det(A), wa[0], str(va)))\n",
    "print(\"det(B)=%f val=%f \\nvector:\\n%s\"%(np.linalg.det(B), wb[0], str(vb)))\n",
    "print(\"det(C)=%f val=%f \\nvector:\\n%s\"%(np.linalg.det(C), wc[0], str(vc)))\n",
    "print(\"det(D)=%f val=%f \\nvector:\\n%s\"%(np.linalg.det(D), wd[0], str(vd)))\n"
   ]
  },
  {
   "cell_type": "code",
   "execution_count": 65,
   "id": "1d0e3814",
   "metadata": {},
   "outputs": [
    {
     "name": "stdout",
     "output_type": "stream",
     "text": [
      "[-3  6 -3]\n"
     ]
    }
   ],
   "source": [
    "A = np.array([1, 2, 3])\n",
    "B = np.array([4, 5, 6])\n",
    "print(np.cross(A, B))"
   ]
  },
  {
   "cell_type": "code",
   "execution_count": 66,
   "id": "5de6f2cb",
   "metadata": {},
   "outputs": [
    {
     "data": {
      "text/plain": [
       "array([[ 2,  2, -4],\n",
       "       [ 2, -1, -1],\n",
       "       [-4,  1, -3]])"
      ]
     },
     "execution_count": 66,
     "metadata": {},
     "output_type": "execute_result"
    }
   ],
   "source": [
    "A = np.random.randint(-4, 4, (3, 3))\n",
    "A"
   ]
  },
  {
   "cell_type": "code",
   "execution_count": 67,
   "id": "9f96f13f",
   "metadata": {},
   "outputs": [
    {
     "data": {
      "text/plain": [
       "array([[0., 1., 0.],\n",
       "       [0., 0., 1.],\n",
       "       [1., 0., 0.]])"
      ]
     },
     "execution_count": 67,
     "metadata": {},
     "output_type": "execute_result"
    }
   ],
   "source": [
    "from scipy.linalg import lu\n",
    "P, L, U = lu(A)\n",
    "P"
   ]
  },
  {
   "cell_type": "code",
   "execution_count": 68,
   "id": "88b7ebc9",
   "metadata": {},
   "outputs": [
    {
     "data": {
      "text/plain": [
       "array([[ 1. ,  0. ,  0. ],\n",
       "       [-0.5,  1. ,  0. ],\n",
       "       [-0.5, -0.2,  1. ]])"
      ]
     },
     "execution_count": 68,
     "metadata": {},
     "output_type": "execute_result"
    }
   ],
   "source": [
    "L"
   ]
  },
  {
   "cell_type": "code",
   "execution_count": 69,
   "id": "c658eb8d",
   "metadata": {},
   "outputs": [
    {
     "data": {
      "text/plain": [
       "array([[-4. ,  1. , -3. ],\n",
       "       [ 0. ,  2.5, -5.5],\n",
       "       [ 0. ,  0. , -3.6]])"
      ]
     },
     "execution_count": 69,
     "metadata": {},
     "output_type": "execute_result"
    }
   ],
   "source": [
    "U"
   ]
  },
  {
   "cell_type": "code",
   "execution_count": 70,
   "id": "d4e3788a",
   "metadata": {},
   "outputs": [
    {
     "data": {
      "text/plain": [
       "array([[ 2.,  2., -4.],\n",
       "       [ 2., -1., -1.],\n",
       "       [-4.,  1., -3.]])"
      ]
     },
     "execution_count": 70,
     "metadata": {},
     "output_type": "execute_result"
    }
   ],
   "source": [
    "P @ L @ U"
   ]
  },
  {
   "cell_type": "code",
   "execution_count": 73,
   "id": "cf98c44d",
   "metadata": {},
   "outputs": [],
   "source": [
    "Q, R = np.linalg.qr(A)"
   ]
  },
  {
   "cell_type": "code",
   "execution_count": 74,
   "id": "9082032c",
   "metadata": {},
   "outputs": [
    {
     "data": {
      "text/plain": [
       "array([[-0.40824829,  0.89708523,  0.16903085],\n",
       "       [-0.40824829, -0.34503278,  0.84515425],\n",
       "       [ 0.81649658,  0.27602622,  0.50709255]])"
      ]
     },
     "execution_count": 74,
     "metadata": {},
     "output_type": "execute_result"
    }
   ],
   "source": [
    "Q"
   ]
  },
  {
   "cell_type": "code",
   "execution_count": 75,
   "id": "311eb37f",
   "metadata": {},
   "outputs": [
    {
     "data": {
      "text/plain": [
       "array([[-4.89897949,  0.40824829, -0.40824829],\n",
       "       [ 0.        ,  2.41522946, -4.0713868 ],\n",
       "       [ 0.        ,  0.        , -3.04255532]])"
      ]
     },
     "execution_count": 75,
     "metadata": {},
     "output_type": "execute_result"
    }
   ],
   "source": [
    "R"
   ]
  },
  {
   "cell_type": "code",
   "execution_count": 76,
   "id": "34db4fcf",
   "metadata": {},
   "outputs": [
    {
     "data": {
      "text/plain": [
       "array([[ 2.,  2., -4.],\n",
       "       [ 2., -1., -1.],\n",
       "       [-4.,  1., -3.]])"
      ]
     },
     "execution_count": 76,
     "metadata": {},
     "output_type": "execute_result"
    }
   ],
   "source": [
    "Q @ R"
   ]
  },
  {
   "cell_type": "code",
   "execution_count": 78,
   "id": "2d538310",
   "metadata": {},
   "outputs": [],
   "source": [
    "A = np.random.randint(-4, 4, (3, 3))\n",
    "B = np.random.randint(-4, 4, (3, 3))"
   ]
  },
  {
   "cell_type": "code",
   "execution_count": 79,
   "id": "6265bf88",
   "metadata": {},
   "outputs": [
    {
     "data": {
      "text/plain": [
       "array([[ 3,  3,  2],\n",
       "       [ 0, -3,  0],\n",
       "       [-4, -3,  2]])"
      ]
     },
     "execution_count": 79,
     "metadata": {},
     "output_type": "execute_result"
    }
   ],
   "source": [
    "A"
   ]
  },
  {
   "cell_type": "code",
   "execution_count": 80,
   "id": "a880a907",
   "metadata": {},
   "outputs": [
    {
     "data": {
      "text/plain": [
       "array([[ 1, -4,  2],\n",
       "       [ 0,  2, -1],\n",
       "       [ 3,  0,  2]])"
      ]
     },
     "execution_count": 80,
     "metadata": {},
     "output_type": "execute_result"
    }
   ],
   "source": [
    "B"
   ]
  },
  {
   "cell_type": "code",
   "execution_count": 81,
   "id": "889fdff9",
   "metadata": {},
   "outputs": [
    {
     "data": {
      "text/plain": [
       "array([[ 9, -6,  7],\n",
       "       [ 0, -6,  3],\n",
       "       [ 2, 10, -1]])"
      ]
     },
     "execution_count": 81,
     "metadata": {},
     "output_type": "execute_result"
    }
   ],
   "source": [
    "A @ B"
   ]
  },
  {
   "cell_type": "code",
   "execution_count": 82,
   "id": "b5ec5a0d",
   "metadata": {},
   "outputs": [
    {
     "data": {
      "text/plain": [
       "array([[-5,  9,  6],\n",
       "       [ 4, -3, -2],\n",
       "       [ 1,  3, 10]])"
      ]
     },
     "execution_count": 82,
     "metadata": {},
     "output_type": "execute_result"
    }
   ],
   "source": [
    "B @ A"
   ]
  },
  {
   "cell_type": "code",
   "execution_count": 83,
   "id": "00f6a5a2",
   "metadata": {},
   "outputs": [
    {
     "data": {
      "text/plain": [
       "2"
      ]
     },
     "execution_count": 83,
     "metadata": {},
     "output_type": "execute_result"
    }
   ],
   "source": [
    "np.trace(A@B)"
   ]
  },
  {
   "cell_type": "code",
   "execution_count": 84,
   "id": "44f1f76b",
   "metadata": {},
   "outputs": [
    {
     "data": {
      "text/plain": [
       "2"
      ]
     },
     "execution_count": 84,
     "metadata": {},
     "output_type": "execute_result"
    }
   ],
   "source": [
    "np.trace(B@A)"
   ]
  },
  {
   "cell_type": "code",
   "execution_count": 100,
   "id": "f119f73f",
   "metadata": {},
   "outputs": [
    {
     "data": {
      "image/png": "[encoded data removed]",
      "text/plain": [
       "<Figure size 432x288 with 1 Axes>"
      ]
     },
     "metadata": {
      "needs_background": "light"
     },
     "output_type": "display_data"
    }
   ],
   "source": [
    "from scipy.special import gamma\n",
    "x = np.linspace(0, 5, 5)\n",
    "y = gamma(x)\n",
    "import matplotlib.pyplot as plt\n",
    "plt.plot(x, y)\n",
    "plt.grid()\n",
    "plt.show()"
   ]
  },
  {
   "cell_type": "code",
   "execution_count": null,
   "id": "355da6c0",
   "metadata": {},
   "outputs": [],
   "source": []
  }
 ],
 "metadata": {
  "kernelspec": {
   "display_name": "Python 3",
   "language": "python",
   "name": "python3"
  },
  "language_info": {
   "codemirror_mode": {
    "name": "ipython",
    "version": 3
   },
   "file_extension": ".py",
   "mimetype": "text/x-python",
   "name": "python",
   "nbconvert_exporter": "python",
   "pygments_lexer": "ipython3",
   "version": "3.8.8"
  }
 },
 "nbformat": 4,
 "nbformat_minor": 5
}
