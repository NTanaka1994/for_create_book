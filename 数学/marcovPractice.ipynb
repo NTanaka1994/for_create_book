{
 "cells": [
  {
   "cell_type": "code",
   "execution_count": 2,
   "id": "b0a60908",
   "metadata": {},
   "outputs": [],
   "source": [
    "import pandas as pd\n",
    "df = pd.read_csv(\"tenki.csv\", encoding=\"shift-jis\")\n",
    "tenki = df.values[4:,1]\n",
    "ten = {}\n",
    "dic = 0\n",
    "for i in range(len(tenki)):\n",
    "    try:\n",
    "        _ = ten[tenki[i]]\n",
    "    except:\n",
    "        ten[tenki[i]] = dic\n",
    "        dic = dic + 1\n",
    "#print(tenki)\n",
    "#print(ten)\n",
    "cate = []\n",
    "for i in range(len(tenki)):\n",
    "    cate.append(ten[tenki[i]])"
   ]
  },
  {
   "cell_type": "code",
   "execution_count": 3,
   "id": "537ef66e",
   "metadata": {},
   "outputs": [],
   "source": [
    "Pt = {}\n",
    "P = {}\n",
    "Pc = {}\n",
    "for i in range(len(tenki)-1):\n",
    "    try:\n",
    "        _ = Pt[tenki[i]]\n",
    "        Pt[tenki[i]] = Pt[tenki[i]] + 1\n",
    "    except:\n",
    "        Pt[tenki[i]] = 1\n",
    "    try:\n",
    "        _ = P[tenki[i]][tenki[i+1]]\n",
    "        P[tenki[i]][tenki[i+1]] = P[tenki[i]][tenki[i+1]] + 1\n",
    "    except:\n",
    "        tmp = {tenki[i+1]:1}\n",
    "        if tenki[i] in P:\n",
    "            P[tenki[i]].update(tmp)\n",
    "        else:\n",
    "            P[tenki[i]] = tmp"
   ]
  },
  {
   "cell_type": "code",
   "execution_count": 4,
   "id": "9c80dc92",
   "metadata": {},
   "outputs": [],
   "source": [
    "Pa = {}\n",
    "for col1 in Pt:\n",
    "    tmp = []\n",
    "    for col2 in Pt:\n",
    "        if col2 in P[col1]:\n",
    "            tmp.append([col2,P[col1][col2]/Pt[col1]])\n",
    "    tmp = sorted(tmp, key=lambda x:x[1], reverse=True)\n",
    "    tmp = pd.DataFrame(tmp)\n",
    "    tmp[1] = tmp[1].cumsum()\n",
    "    tmp = tmp.values\n",
    "    Pa[col1] = tmp\n",
    "    tmp = []"
   ]
  },
  {
   "cell_type": "code",
   "execution_count": 5,
   "id": "9902f86d",
   "metadata": {},
   "outputs": [
    {
     "name": "stdout",
     "output_type": "stream",
     "text": [
      "曇後晴\n",
      "快晴\n",
      "晴時々曇一時雨\n",
      "晴後薄曇\n",
      "曇\n",
      "晴\n",
      "曇\n",
      "雨後曇\n",
      "曇後一時晴\n",
      "曇時々雨一時晴\n",
      "薄曇\n",
      "晴時々薄曇\n",
      "曇後一時雨\n",
      "曇時々雨\n",
      "雨\n",
      "大雨\n",
      "快晴\n",
      "晴後薄曇\n",
      "晴後時々薄曇\n",
      "曇一時晴\n",
      "曇\n",
      "晴時々薄曇\n",
      "曇後一時雨\n",
      "晴\n",
      "快晴\n",
      "晴後薄曇\n",
      "曇一時雨\n",
      "曇後晴\n",
      "曇\n",
      "曇時々雨\n",
      "曇一時雨\n"
     ]
    }
   ],
   "source": [
    "import random\n",
    "word = \"快晴\"\n",
    "for i in range(31):\n",
    "    rand = random.random()\n",
    "    for j in range(len(Pa[word])):\n",
    "        if rand < Pa[word][j][1]:\n",
    "            print(Pa[word][j][0])\n",
    "            word = Pa[word][j][0]\n",
    "            break"
   ]
  },
  {
   "cell_type": "code",
   "execution_count": null,
   "id": "8b4ceebd",
   "metadata": {},
   "outputs": [],
   "source": []
  }
 ],
 "metadata": {
  "kernelspec": {
   "display_name": "Python 3",
   "language": "python",
   "name": "python3"
  },
  "language_info": {
   "codemirror_mode": {
    "name": "ipython",
    "version": 3
   },
   "file_extension": ".py",
   "mimetype": "text/x-python",
   "name": "python",
   "nbconvert_exporter": "python",
   "pygments_lexer": "ipython3",
   "version": "3.8.8"
  }
 },
 "nbformat": 4,
 "nbformat_minor": 5
}
