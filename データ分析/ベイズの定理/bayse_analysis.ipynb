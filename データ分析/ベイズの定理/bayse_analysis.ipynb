{
 "cells": [
  {
   "cell_type": "code",
   "execution_count": 1,
   "metadata": {},
   "outputs": [],
   "source": [
    "import pandas as pd"
   ]
  },
  {
   "cell_type": "code",
   "execution_count": 2,
   "metadata": {},
   "outputs": [],
   "source": [
    "df=pd.read_csv(\"golf.csv\",encoding=\"shift-jis\")"
   ]
  },
  {
   "cell_type": "code",
   "execution_count": 3,
   "metadata": {},
   "outputs": [],
   "source": [
    "columns=[\"天気\",\"風\"]"
   ]
  },
  {
   "cell_type": "code",
   "execution_count": 4,
   "metadata": {},
   "outputs": [
    {
     "name": "stdout",
     "output_type": "stream",
     "text": [
      "p(Yes | 雨)=0.600000\n",
      "p(No | 雨)=0.400000\n",
      "p(Yes | 曇)=1.000000\n",
      "p(No | 曇)=0.000000\n",
      "p(Yes | 晴)=0.400000\n",
      "p(No | 晴)=0.600000\n",
      "p(Yes | 弱)=0.750000\n",
      "p(No | 弱)=0.250000\n",
      "p(Yes | 強)=0.500000\n",
      "p(No | 強)=0.500000\n"
     ]
    }
   ],
   "source": [
    "for col in columns:\n",
    "    arr=df[col].values\n",
    "    arr=list(set(list(arr)))\n",
    "    for row in arr:\n",
    "        deno=df.query(\"%s=='%s'\"%(col,row))\n",
    "        nume_y=deno.query(\"ゴルフ=='する'\")\n",
    "        nume_n=deno.query(\"ゴルフ=='しない'\")\n",
    "        print(\"p(Yes | %s)=%f\"%(row,len(nume_y.values)/len(deno.values)))\n",
    "        print(\"p(No | %s)=%f\"%(row,len(nume_n.values)/len(deno.values)))"
   ]
  },
  {
   "cell_type": "code",
   "execution_count": null,
   "metadata": {},
   "outputs": [],
   "source": []
  }
 ],
 "metadata": {
  "kernelspec": {
   "display_name": "Python 3",
   "language": "python",
   "name": "python3"
  },
  "language_info": {
   "codemirror_mode": {
    "name": "ipython",
    "version": 3
   },
   "file_extension": ".py",
   "mimetype": "text/x-python",
   "name": "python",
   "nbconvert_exporter": "python",
   "pygments_lexer": "ipython3",
   "version": "3.7.1"
  }
 },
 "nbformat": 4,
 "nbformat_minor": 2
}
